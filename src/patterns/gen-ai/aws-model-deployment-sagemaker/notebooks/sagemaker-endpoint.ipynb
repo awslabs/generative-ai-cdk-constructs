{
 "cells": [
  {
   "cell_type": "markdown",
   "id": "eb7df8da",
   "metadata": {},
   "source": [
    "# JumpStartSageMakerEndpoint"
   ]
  },
  {
   "cell_type": "code",
   "execution_count": 17,
   "id": "c0e098ed",
   "metadata": {},
   "outputs": [],
   "source": [
    "import json\n",
    "import boto3\n",
    "\n",
    "client = boto3.client('sagemaker-runtime')\n",
    "\n",
    "def query_model(endpoint_name, payload, endpoint_kwargs={}):\n",
    "    encoded_json = json.dumps(payload).encode('utf-8')\n",
    "    response = client.invoke_endpoint(\n",
    "        EndpointName=endpoint_name, ContentType='application/json', \n",
    "        Body=encoded_json,\n",
    "        **endpoint_kwargs\n",
    "    )\n",
    "    \n",
    "    response = json.loads(response['Body'].read())\n",
    "    \n",
    "    return response"
   ]
  },
  {
   "cell_type": "markdown",
   "id": "4c5ae78a",
   "metadata": {},
   "source": [
    "## HUGGINGFACE_LLM_FALCON_7B_INSTRUCT_BF16_1_3_2"
   ]
  },
  {
   "cell_type": "code",
   "execution_count": 28,
   "id": "287dc2ad",
   "metadata": {
    "scrolled": true
   },
   "outputs": [
    {
     "data": {
      "text/plain": [
       "[{'generated_text': '\\nHere is a recipe for a delicious lemon cheesecake:\\n\\nIngredients:\\n- 1 1/2 cups graham cracker crumbs\\n- 4 tablespoons butter, melted\\n- 2 (8 ounce) packages cream cheese, softened\\n- 1/2 cup granulated sugar\\n- 2 eggs\\n- 1/2 cup lemon juice\\n- 1/2 teaspoon salt\\n- 1/2 teaspoon vanilla extract\\n- 1/2 cup heavy cream\\n- 1/2 cup granulated sugar\\n- 1/2 teaspoon lemon zest\\n\\nInstructions:\\n1. Preheat oven to 350 degrees F.\\n2. In a medium bowl, mix together the graham cracker crumbs and melted butter. Press the mixture onto the bottom and sides of a 9-inch springform pan.\\n3. In a large bowl, beat the cream cheese and sugar until smooth. Add the eggs, lemon juice, salt, vanilla, and heavy cream. Beat until well combined.\\n4. Pour the mixture into the prepared pan.\\n5. Bake for 30 minutes or until the cheesecake is set.\\n6. Let cool for 10 minutes before serving.\\n7. In a small bowl, mix together the lemon zest and sugar. Sprinkle over the cheesecake before serving.'}]"
      ]
     },
     "execution_count": 28,
     "metadata": {},
     "output_type": "execute_result"
    }
   ],
   "source": [
    "endpoint_name = \"huggingfacellmfalcon7binstructbf16endpoint-JGnnvEW5lZ5L\"\n",
    "query_model(endpoint_name, {\n",
    "    \"inputs\": \"What is the recipe for a delicious lemon cheesecake?\",\n",
    "    \"parameters\": {\"max_new_tokens\": 400},\n",
    "})"
   ]
  },
  {
   "cell_type": "markdown",
   "id": "3162cab8",
   "metadata": {},
   "source": [
    "## META_TEXTGENERATION_LLAMA_2_7B_F_2_0_2"
   ]
  },
  {
   "cell_type": "code",
   "execution_count": 27,
   "id": "6aae8a2b",
   "metadata": {},
   "outputs": [
    {
     "data": {
      "text/plain": [
       "[{'generation': {'role': 'assistant',\n",
       "   'content': \" Here's how to go from Beijing to NY 🚀:\\n\\n1. Fly from Beijing Capital International Airport (PEK) to John F. Kennedy International Airport (JFK) or Newark Liberty International Airport (EWR) in the United States 🛬\\n2. Choose from various airlines such as Air China, China Eastern, China Southern, and Delta 👉\\n3. Book your flight in advance to get the best deals 💰\\n4. Plan your trip accordingly, including visa requirements and travel documents 📝\\n5. Enjoy your journey from Beijing to NY! 😊\"}}]"
      ]
     },
     "execution_count": 27,
     "metadata": {},
     "output_type": "execute_result"
    }
   ],
   "source": [
    "endpoint_name = \"metatextgenerationllama27bfendpoint-IUNV9kw8K7kt\"\n",
    "query_model(endpoint_name, {\n",
    "    \"inputs\": [\n",
    "        [\n",
    "            {\n",
    "                \"role\": \"system\",\n",
    "                \"content\": \"Always answer with emojis\",\n",
    "            },\n",
    "            {\"role\": \"user\", \"content\": \"How to go from Beijing to NY?\"},\n",
    "        ]\n",
    "    ],\n",
    "    \"parameters\": {\"max_new_tokens\": 512, \"top_p\": 0.9, \"temperature\": 0.6},\n",
    "}, {\"CustomAttributes\": \"accept_eula=true\"})"
   ]
  },
  {
   "cell_type": "markdown",
   "id": "6ccffcb7",
   "metadata": {},
   "source": [
    "## HUGGINGFACE_TEXTGENERATION1_LIGHTGPT_1_1_0"
   ]
  },
  {
   "cell_type": "code",
   "execution_count": 41,
   "id": "1a81cb6f",
   "metadata": {
    "scrolled": true
   },
   "outputs": [
    {
     "data": {
      "text/plain": [
       "[[{'generated_text': 'What is the recipe for a delicious lemon cheesecake?\\n\\n\\n\\nSo here is the recipe:\\nIngredients:\\n\\n\\nLemon Cheesecake:\\n2 cups( 250gm) Unsalted butter1/2 cups(50gm) Unsalted butter1/2 cup( 50gm) Powdered sugar3 to 1 cup(100gm) Lemon juice(Zest of 2 lemons)(Pour into a medium bowl,and the cream of a large lemon,the peel,and then finely grate the finely grated zest into the bowl of the bowl.\\n\\nChill the bowl.\\n\\n1. Add one cup plus 2 teaspoons of butter,one and mix together with an electric mixer,\\n2. Add 1 cup of sugar and mix until creamy'}]]"
      ]
     },
     "execution_count": 41,
     "metadata": {},
     "output_type": "execute_result"
    }
   ],
   "source": [
    "endpoint_name = \"huggingfacetextgeneration1lightgptendpoint-EPwP6jkqMQ4e\"\n",
    "query_model(endpoint_name, {\n",
    "    \"text_inputs\": \"What is the recipe for a delicious lemon cheesecake?\",\n",
    "    \"max_new_tokens\":400,\n",
    "})"
   ]
  },
  {
   "cell_type": "markdown",
   "id": "e0b5cc90",
   "metadata": {},
   "source": [
    "## HUGGINGFACE_TEXTGENERATION1_REDPAJAMA_INCITE_BASE_3B_V1_FP16_1_1_0"
   ]
  },
  {
   "cell_type": "code",
   "execution_count": 40,
   "id": "96ae3eef",
   "metadata": {},
   "outputs": [
    {
     "data": {
      "text/plain": [
       "[[{'generated_text': ['<human>: Tell me the steps to make a pizza\\n<bot>: Take 2 tbsp olive oil, add it to a pan\\n\\n### How to ask for a pizza\\n\\nTo request a pizza, you can use the phrase `get pizza` (which would take the form of `get pizza <person>/:add<number>`).\\n\\nA request can be sent in both the form of a request and an immediate action. It will take the form of `get pizza <person']}]]"
      ]
     },
     "execution_count": 40,
     "metadata": {},
     "output_type": "execute_result"
    }
   ],
   "source": [
    "endpoint_name = \"huggingfacetextgeneration1redpajamaincitebase3Bv1f-uvPb282b8xa9\"\n",
    "query_model(endpoint_name, {\n",
    "    \"text_inputs\": \"<human>: Tell me the steps to make a pizza\\n<bot>:\",\n",
    "    \"max_length\": 100,\n",
    "    \"max_time\": 50,\n",
    "    \"top_k\": 50,\n",
    "    \"top_p\": 0.95,\n",
    "    \"do_sample\": True,\n",
    "    \"stopping_criteria\": [\"<human>\"],\n",
    "})"
   ]
  },
  {
   "cell_type": "markdown",
   "id": "5942ac51",
   "metadata": {},
   "source": [
    "# HuggingFaceSageMakerEndpoint"
   ]
  },
  {
   "cell_type": "code",
   "execution_count": 43,
   "id": "6a20bb63",
   "metadata": {},
   "outputs": [
    {
     "data": {
      "text/plain": [
       "[{'generated_text': 'What is the recipe for a delicious lemon cheesecake?\\n\\nIngredients:\\n- 1 cup of graham cracker crumbs\\n- 1/4 cup of sugar\\n- 1/4 cup of melted butter\\n- 4 packages of cream cheese, softened\\n- 1 cup of sugar\\n- 1 teaspoon of vanilla extract\\n- 4 large eggs\\n- 1/2 cup of fresh lemon juice\\n- Zest of 1 lemon\\n\\nInstructions:\\n\\n1. Preheat the oven to 350 degrees Fahrenheit.\\n\\n2. In a medium bowl, mix together the graham cracker crumbs, 1/4 cup of sugar, and melted butter until well combined. Press this mixture into the bottom of a 9-inch springform pan.\\n\\n3. In a large bowl, beat the cream cheese, 1 cup of sugar, and vanilla extract until smooth and creamy.\\n\\n4. Add the eggs one at a time, beating well after each addition.\\n\\n5. Stir in the fresh lemon juice and zest until well combined.\\n\\n6. Pour the cheesecake filling into the prepared crust.\\n\\n7. Bake for 50-60 minutes, or until the edges are lightly golden and the center is almost set.\\n\\n8. Allow the cheesecake to cool to room temperature before chilling in the refrigerator for at least 4 hours.\\n\\n9. Serve chilled and enjoy your delicious lemon cheesecake!'}]"
      ]
     },
     "execution_count": 43,
     "metadata": {},
     "output_type": "execute_result"
    }
   ],
   "source": [
    "endpoint_name = \"mistralaiMistral7BInstructv01endpoint-ynaVwe8RyQg3\"\n",
    "query_model(endpoint_name, {\n",
    "    \"inputs\": \"What is the recipe for a delicious lemon cheesecake?\",\n",
    "    \"parameters\": {\"max_new_tokens\": 400},\n",
    "})"
   ]
  }
 ],
 "metadata": {
  "kernelspec": {
   "display_name": "conda_python3",
   "language": "python",
   "name": "conda_python3"
  },
  "language_info": {
   "codemirror_mode": {
    "name": "ipython",
    "version": 3
   },
   "file_extension": ".py",
   "mimetype": "text/x-python",
   "name": "python",
   "nbconvert_exporter": "python",
   "pygments_lexer": "ipython3",
   "version": "3.10.13"
  }
 },
 "nbformat": 4,
 "nbformat_minor": 5
}
